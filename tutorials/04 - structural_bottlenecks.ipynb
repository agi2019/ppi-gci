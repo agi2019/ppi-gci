{
 "cells": [
  {
   "cell_type": "markdown",
   "id": "79dd9f44",
   "metadata": {
    "colab_type": "text",
    "id": "view-in-github"
   },
   "source": [
    "<a href=\"https://colab.research.google.com/github/agi2019/ppi-gci/blob/main/tutorials/04%20-%20structural_bottlenecks.ipynb\" target=\"_parent\"><img src=\"https://colab.research.google.com/assets/colab-badge.svg\" alt=\"Open In Colab\"/></a>"
   ]
  },
  {
   "cell_type": "markdown",
   "id": "2aa1c1d3",
   "metadata": {
    "id": "2aa1c1d3"
   },
   "source": [
    "# <center>Structural bottlenecks</center>\n",
    "\n",
    "Prepared by Omar A. Guerrero (oguerrero@turing.ac.uk, <a href=\"https://twitter.com/guerrero_oa\">@guerrero_oa</a>)\n",
    "\n",
    "The previous tutorial explained how to simulate a budgetary intervention. The results suggest that, for this example, the indicators respond modestly to linear increments in government expenditure. In this tutorial, I will explain how to expand on the idea of expenditure sensitivity in order to quantify structural bottlenecks, a concept that is often discussed in the development economics and SDG literature, but that is rarely formalised. In addition, I will show you how to perform a larger set of Monte Carlo simulations while distributing their work load across multiple cores or processors."
   ]
  },
  {
   "cell_type": "markdown",
   "id": "b6bd88e8",
   "metadata": {
    "id": "b6bd88e8"
   },
   "source": [
    "## Importing Python libraries to manipulate and visualise data"
   ]
  },
  {
   "cell_type": "code",
   "execution_count": 1,
   "id": "f39146c9",
   "metadata": {
    "id": "f39146c9"
   },
   "outputs": [],
   "source": [
    "import pandas as pd\n",
    "import numpy as np\n",
    "import matplotlib.pyplot as plt"
   ]
  },
  {
   "cell_type": "code",
   "execution_count": 2,
   "id": "b97c27f8-384d-4299-bfb3-079de54d9802",
   "metadata": {},
   "outputs": [],
   "source": [
    "#scenario = '_scenario1'\n",
    "#scenario = '_scenario2'\n",
    "scenario = '_scenario3'"
   ]
  },
  {
   "cell_type": "markdown",
   "id": "956cea1e",
   "metadata": {
    "id": "956cea1e"
   },
   "source": [
    "## Importing PPI functions"
   ]
  },
  {
   "cell_type": "code",
   "execution_count": 3,
   "id": "30ba1860",
   "metadata": {
    "id": "30ba1860"
   },
   "outputs": [],
   "source": [
    "import requests\n",
    "url = 'https://raw.githubusercontent.com/agi2019/ppi-gci/main/source_code/policy_priority_inference.py'\n",
    "r = requests.get(url)\n",
    "with open('policy_priority_inference.py', 'w') as f:\n",
    "    f.write(r.text)\n",
    "import policy_priority_inference as ppi"
   ]
  },
  {
   "cell_type": "markdown",
   "id": "cdc4d777",
   "metadata": {
    "id": "cdc4d777"
   },
   "source": [
    "## Load data"
   ]
  },
  {
   "cell_type": "code",
   "execution_count": 4,
   "id": "58ce3b24",
   "metadata": {
    "id": "58ce3b24"
   },
   "outputs": [],
   "source": [
    "# INDICATORS\n",
    "df_indis = pd.read_csv('C:/Users/rha005/OneDrive - CSIRO/Documents/7. CSIRO/00. Work in Progress - ON Office/Week 9-10/ppi-gci-main-indicators/tutorials/clean_data'+scenario+'/data_indicators.csv')\n",
    "N = len(df_indis) # number of indicators\n",
    "I0 = df_indis.I0.values # initial values\n",
    "R = df_indis.instrumental # instrumental indicators\n",
    "qm = df_indis.qm.values # quality of monitoring\n",
    "rl = df_indis.rl.values # quality of the rule of law\n",
    "indis_index = dict([(code, i) for i, code in enumerate(df_indis.seriesCode)]) # used to build the network matrix\n",
    "Imax = df_indis.maxVals.values\n",
    "Imin = df_indis.minVals.values\n",
    "#goals = np.random.rand(N)*(Imax - I0) + I0\n",
    "goals = Imax\n",
    "\n",
    "# PARAMETERS\n",
    "df_params = pd.read_csv('C:/Users/rha005/OneDrive - CSIRO/Documents/7. CSIRO/00. Work in Progress - ON Office/Week 9-10/ppi-gci-main-indicators/tutorials/clean_data'+scenario+'/parameters.csv')\n",
    "alphas = df_params.alpha.values\n",
    "alphas_prime = df_params.alpha_prime.values\n",
    "betas = df_params.beta.values\n",
    "\n",
    "# NETWORK\n",
    "df_net = pd.read_csv('C:/Users/rha005/OneDrive - CSIRO/Documents/7. CSIRO/00. Work in Progress - ON Office/Week 9-10/ppi-gci-main-indicators/tutorials/clean_data'+scenario+'/data_network.csv')\n",
    "A = np.zeros((N, N)) # adjacency matrix\n",
    "for index, row in df_net.iterrows():\n",
    "    i = indis_index[row.origin]\n",
    "    j = indis_index[row.destination]\n",
    "    w = row.weight\n",
    "    A[i,j] = w\n",
    "\n",
    "# DISBURSEMENT SCHEDULE (make sure that the disbursement schedule is consistent with T, otherwise PPI will simulate the T of the calibration)\n",
    "T = 66\n",
    "df_exp = pd.read_csv('C:/Users/rha005/OneDrive - CSIRO/Documents/7. CSIRO/00. Work in Progress - ON Office/Week 9-10/ppi-gci-main-indicators/tutorials/clean_data'+scenario+'/data_expenditure.csv')\n",
    "Bs_retrospective = df_exp.drop(columns='seriesCode').values  # shape = (63 x tahun)\n",
    "\n",
    "# Create a new disbursement schedule assuming that expenditure will be the same as the last period of the sample\n",
    "# Bs tetap 63 x T\n",
    "Bs = np.tile(Bs_retrospective[:, -1], (T, 1)).T  # shape: (63, T)\n",
    "\n",
    "# Build B_dict: key = indeks indikator instrumental, value = [index_in_Bs]\n",
    "#B_dict = {i: [i] for i in range(len(Bs)) if df_indis['instrumental'].iloc[i] == 1}\n",
    "# Ambil mask indikator instrumental\n",
    "instrumental_mask = df_indis['instrumental'].astype(bool).values\n",
    "\n",
    "# Bangun B_dict hanya untuk indikator instrumental (jumlah = 56)\n",
    "B_dict = {i: [i] for i in range(len(instrumental_mask)) if instrumental_mask[i]}\n",
    "\n",
    "# Validasi\n",
    "assert len(B_dict) == instrumental_mask.sum()   # Harus 56\n",
    "assert max(p for v in B_dict.values() for p in v) < Bs.shape[0]  # Harus < 63"
   ]
  },
  {
   "cell_type": "code",
   "execution_count": 5,
   "id": "e6a3d718-7adf-4743-bf43-6ed99024673e",
   "metadata": {},
   "outputs": [],
   "source": [
    "# 1. Ambil indeks program yang digunakan\n",
    "used_programs = sorted(set(p for v in B_dict.values() for p in v))\n",
    "\n",
    "# 2. Subset Bs hanya ke program yang digunakan\n",
    "Bs_used = Bs[used_programs, :]  # shape: (56, T)\n",
    "\n",
    "# 3. Bangun ulang B_dict agar sesuai dengan Bs_used yang sudah disubset\n",
    "old2new = {old: new for new, old in enumerate(used_programs)}\n",
    "B_dict_new = {k: [old2new[v[0]]] for k, v in B_dict.items()}\n"
   ]
  },
  {
   "cell_type": "markdown",
   "id": "fa8f64a1",
   "metadata": {
    "id": "fa8f64a1"
   },
   "source": [
    "## Bottlenecks\n",
    "\n",
    "In the book, we develop two definitions of structural bottlenecks:\n",
    "\n",
    "1. Idiosyncratic bottlenecks: Those that focus on the structural constraints of a single indicator.\n",
    "2. Systemic bottlenecks: Those that \"clog\" the development of other policy issues through indirect impacts.\n",
    "\n",
    "In this tutorial, I will focus on the first type: <strong>idiosyncratic bottlenecks</strong>. An idiosyncratic bottleneck manifests when an indicator with a bad historical performance responds poorly to budgetary interventions. An indicator may not respond to an expenditure programme because it experiences strong structural constraints that can only be lifted through long-term structural reforms (e.g., redesigning the relevant government programmes). This type of problems cannot be solved by spending more resources as the government programmes in place are likely ill-conceived.\n",
    "\n",
    "\n",
    "### The budgetary frontier\n",
    "\n",
    "To identify an idiosyncratic bottleneck you need to think of a hypothetical budgetary intervention that would lift all financial obstacles and negative spillovers. Effectively, such scenario would mean that the probability of success of the intervened indicator is always 1. This hypothetical scenario is called the <strong>budgetary frontier</strong>, and was originally developed in https://doi.org/10.1007/s11625-022-01095-1. The idea is that, if a government operates on the budgetary frontier, and there are indicators that respond poorly, it means that they are being constrained by long-term structural factors.\n",
    "\n",
    "To perform frontier analysis, the `run_ppi` function offers the optional parameter `frontier`. This parameter consists of a vector specifying the probability of success that one would like to exogenously impose to each indicator. Hence, for this tutorial, I will impose a value of 1 for all indicators at the same time. A more nuanced analysis may consider to only analyse one or a subset of indicators at a time.\n",
    "\n",
    "\n",
    "### Parallelisation\n",
    "\n",
    "Instead of calling the `run_ppi` function in an explicit `for` loop, I will use `run_ppi_parallel`, which allows to perform multiple Monte Carlo simulations and distribute their load across four cores or processors. This function takes the same inputs as `run_ppi` with a couple of additional ones to specify the number of simulations. First, I will run the baseline simulation and, then, the frontier one."
   ]
  },
  {
   "cell_type": "code",
   "execution_count": 6,
   "id": "1e1be983",
   "metadata": {
    "id": "1e1be983"
   },
   "outputs": [],
   "source": [
    "parallel_processes=4\n",
    "sample_size=100 # now we increase the sample size from 100 (which was used in the previous tutorial) to 1000\n",
    "\n",
    "# first the baseline\n",
    "outputs_baseline = ppi.run_ppi_parallel(I0, alphas, alphas_prime, betas, A=A, R=R, qm=qm, rl=rl,\n",
    "                                        Imax=Imax, Imin=Imin, Bs=Bs_used, B_dict=B_dict_new, T=T, G=goals,\n",
    "                                        parallel_processes=parallel_processes, sample_size=sample_size)\n",
    "\n",
    "# now the frontier\n",
    "# notice that Bs and B_dict will be overridden by frontier\n",
    "frontier = np.ones(N)\n",
    "outputs_frontier = ppi.run_ppi_parallel(I0, alphas, alphas_prime, betas, A=A, R=R, qm=qm, rl=rl,\n",
    "                                        Imax=Imax, Imin=Imin, Bs=Bs_used, B_dict=B_dict_new, T=T, G=goals, frontier=frontier,\n",
    "                                        parallel_processes=parallel_processes, sample_size=sample_size)"
   ]
  },
  {
   "cell_type": "markdown",
   "id": "573a4ab1",
   "metadata": {
    "id": "573a4ab1"
   },
   "source": [
    "Now we unpack the outputs and obtain the average time series of the baseline and the counterfactual."
   ]
  },
  {
   "cell_type": "code",
   "execution_count": 7,
   "id": "7a160aad",
   "metadata": {
    "id": "7a160aad"
   },
   "outputs": [],
   "source": [
    "tsI_sample, tsC_sample, tsF_sample, tsP_sample, tsS_sample, tsG_sample = outputs_baseline\n",
    "tsI_baseline = np.mean(tsI_sample, axis=0)\n",
    "\n",
    "tsI_sample, tsC_sample, tsF_sample, tsP_sample, tsS_sample, tsG_sample = outputs_frontier\n",
    "tsI_frontier = np.mean(tsI_sample, axis=0)"
   ]
  },
  {
   "cell_type": "markdown",
   "id": "1bbf13bc",
   "metadata": {
    "id": "1bbf13bc"
   },
   "source": [
    "Time to visualise the difference in development gaps."
   ]
  },
  {
   "cell_type": "code",
   "execution_count": 8,
   "id": "752a632d",
   "metadata": {
    "colab": {
     "base_uri": "https://localhost:8080/",
     "height": 606
    },
    "id": "752a632d",
    "outputId": "b3e89265-ac68-4f2c-f682-88d109f3c6ec"
   },
   "outputs": [
    {
     "data": {
      "image/png": "[encoded data removed]",
      "text/plain": [
       "<Figure size 600x600 with 1 Axes>"
      ]
     },
     "metadata": {},
     "output_type": "display_data"
    }
   ],
   "source": [
    "plt.figure(figsize=(6, 6))\n",
    "for index, row in df_indis.iterrows():\n",
    "    goal = goals[index]\n",
    "    if goal > tsI_baseline[index,T-1]: # consider only those indicators that would not reach their goals\n",
    "        plt.plot(goal-tsI_baseline[index,T-1], goal-tsI_frontier[index,T-1],\n",
    "                 '.', mec='w', mfc=row.color, markersize=20)\n",
    "plt.gca().spines['right'].set_visible(False)\n",
    "plt.gca().spines['top'].set_visible(False)\n",
    "plt.xlabel('baseline development gap')\n",
    "plt.ylabel('development gap on the budgetary frontier')\n",
    "plt.tight_layout()"
   ]
  },
  {
   "cell_type": "markdown",
   "id": "aad8ccc0",
   "metadata": {
    "id": "aad8ccc0"
   },
   "source": [
    "Now you can see that, on the frontier, many indicators would respond by closing their gaps, or even surpassing their goals (negative values in the vertical axis). Other indicators, in contrast, still show no sensitivity to the removal of financial constraints, flagging potential bottlenecks.\n",
    "\n",
    "The next step is to identify those policy issues that are insensitive and have shown poor performance in the historical data. The latter criterion, poor performance, can be arbitrary and context specific. For this example, I establish as the threshold of bad performance an average historical level of 0.5.\n",
    "\n",
    "Now, let me show a scatter plot that reveals the potential idiosyncratic bottlenecks. The plot shows the historical performance of each indicator against the fraction of the development gap that is closed when operating on the budgetary frontier. I colour the bottleneck area in gray."
   ]
  },
  {
   "cell_type": "code",
   "execution_count": 9,
   "id": "35c31e76",
   "metadata": {
    "colab": {
     "base_uri": "https://localhost:8080/",
     "height": 807
    },
    "id": "35c31e76",
    "outputId": "45342bd4-1fa2-42f5-f6a8-9af45c0e346b"
   },
   "outputs": [
    {
     "data": {
      "image/png": "[encoded data removed]",
      "text/plain": [
       "<Figure size 1200x800 with 1 Axes>"
      ]
     },
     "metadata": {},
     "output_type": "display_data"
    }
   ],
   "source": [
    "years = [c for c in df_indis.columns if str(c).isnumeric()]\n",
    "plt.figure(figsize=(12, 8))\n",
    "plt.fill_between([-.5, .5], [-.5, -.5], [.5, .5], color='grey', alpha=.25)\n",
    "for index, row in df_indis.iterrows():\n",
    "    goal = goals[index]\n",
    "    hist_performance = np.mean(row[years])\n",
    "    if goal > tsI_baseline[index,T-1]:\n",
    "        gap_base = goal-tsI_baseline[index,T-1]\n",
    "        gap_frontier = np.max([0, goal-tsI_frontier[index,T-1]])\n",
    "        gap_reduction = (gap_base - gap_frontier)/gap_base\n",
    "        plt.plot(hist_performance, gap_reduction, '.', mec='w', mfc=row.color, markersize=40)\n",
    "for index, row in df_indis.iterrows():\n",
    "    goal = goals[index]\n",
    "    hist_performance = np.mean(row[years])\n",
    "    if goal > tsI_baseline[index,T-1]:\n",
    "        gap_base = goal-tsI_baseline[index,T-1]\n",
    "        gap_frontier = np.max([0, goal-tsI_frontier[index,T-1]])\n",
    "        gap_reduction = (gap_base - gap_frontier)/gap_base\n",
    "        txt = plt.text(hist_performance, gap_reduction, row.seriesCode, color='black',\n",
    "                       horizontalalignment='center')\n",
    "        txt.set_bbox(dict(facecolor='white', alpha=0.25, edgecolor='white'))\n",
    "plt.gca().spines['right'].set_visible(False)\n",
    "plt.gca().spines['top'].set_visible(False)\n",
    "plt.xlim(-.05, 1.05)\n",
    "plt.ylim(-.05, 1.05)\n",
    "plt.xlabel('historical performance')\n",
    "plt.ylabel('gap reduction')\n",
    "plt.tight_layout()"
   ]
  },
  {
   "cell_type": "code",
   "execution_count": 10,
   "id": "fec81406-b5cf-48a1-9708-95c1130e72b6",
   "metadata": {},
   "outputs": [],
   "source": [
    "#Impact of each Programs to GCI Score"
   ]
  },
  {
   "cell_type": "code",
   "execution_count": 11,
   "id": "50339b62-97f7-490e-90ff-eb2fb3d5bef7",
   "metadata": {},
   "outputs": [
    {
     "name": "stdout",
     "output_type": "stream",
     "text": [
      "I0: [0.95294089 0.92292454 1.         0.74193595 0.74193595 0.74193595\n",
      " 0.74193595 0.74193595 0.74193595 0.62287422 0.74193595 0.53110143\n",
      " 1.         1.         1.         1.         1.         1.\n",
      " 0.65548399 0.65548399 0.43290665 0.55366175 0.79407108 0.79407108\n",
      " 0.79407108 0.79407108 0.65548399 0.65548399 0.65548399 0.44555209\n",
      " 0.44555209 1.         1.         1.         1.         1.\n",
      " 1.         1.         1.         1.         1.         1.\n",
      " 1.         0.5064543  0.50645783 0.65548399 0.74193273 0.74193273\n",
      " 0.74193273 0.21374141 0.55818912 0.55818912 0.74193595 0.74193595\n",
      " 0.74193595 1.         0.65466378 1.         1.         0.44555209\n",
      " 0.44555209 0.44555209 0.82391674]\n",
      "I0: (63,)\n",
      "alphas: [0.01719371 0.00362033 0.00233266 0.01091986 0.01072749 0.01469224\n",
      " 0.01348644 0.00979492 0.00934501 0.01830591 0.00929409 0.01036566\n",
      " 0.01670307 0.0176309  0.01646308 0.01715078 0.01690306 0.01725129\n",
      " 0.01222778 0.01214318 0.01905566 0.02468576 0.00717689 0.02375365\n",
      " 0.00752366 0.00718279 0.0119779  0.0117812  0.01156759 0.0163488\n",
      " 0.01605568 0.00290044 0.01672662 0.01672129 0.01688977 0.01679583\n",
      " 0.01670943 0.0167954  0.00302832 0.00340157 0.01674552 0.01745152\n",
      " 0.01726351 0.04744542 0.0251075  0.0123538  0.00927349 0.01134595\n",
      " 0.00978028 0.02713187 0.01457037 0.01434414 0.00985612 0.00900248\n",
      " 0.02045174 0.016845   0.02742666 0.01666142 0.01690499 0.0162442\n",
      " 0.01675931 0.02111508 0.00428142]\n",
      "alphas: (63,)\n",
      "alphas_prime: [5.10487378e-13 6.08179678e-05 5.05388057e-05 1.70079208e-04\n",
      " 1.63688876e-04 6.00313072e-04 2.96794509e-04 1.05122088e-04\n",
      " 2.53296991e-05 1.00216381e-03 2.09906906e-05 1.63035024e-03\n",
      " 4.17300473e-09 1.94413607e-09 1.52186744e-12 2.75972422e-09\n",
      " 6.40578724e-10 2.05963131e-10 2.94480227e-05 3.51618716e-05\n",
      " 8.23220401e-04 2.22330694e-03 4.58606236e-05 9.06285634e-04\n",
      " 2.97773587e-05 2.10973171e-04 1.70914044e-05 7.28535113e-05\n",
      " 5.74029191e-06 1.07590834e-03 6.21491111e-04 4.11999751e-06\n",
      " 1.33585199e-10 2.14560780e-12 2.01270347e-13 1.27121271e-10\n",
      " 1.54182557e-10 3.32330647e-09 7.26154051e-06 2.32825048e-05\n",
      " 1.20459087e-10 9.13762098e-11 3.98255848e-10 1.71603887e-03\n",
      " 8.14387406e-04 9.92614571e-05 5.71607575e-04 3.19624855e-04\n",
      " 1.03297801e-04 2.74426770e-04 3.12617702e-04 6.23406876e-04\n",
      " 4.41704635e-05 2.39765959e-05 3.38326844e-04 2.23665320e-11\n",
      " 8.15772309e-04 4.34400629e-10 2.36453135e-09 8.97779474e-04\n",
      " 7.99861896e-05 6.45786515e-04 1.37719167e-04]\n",
      "betas: [4.63872485e-10 3.87611497e-09 1.23304033e-09 3.51555600e-09\n",
      " 5.38033932e-09 8.75228751e-09 7.91296123e-09 1.81934489e-09\n",
      " 7.80993167e-09 1.91567217e-07 3.02503948e-09 1.62396522e+00\n",
      " 8.61637578e-13 6.03870520e-12 4.26562092e-09 2.02932318e-01\n",
      " 4.21252224e-11 6.30460763e-11 1.39980160e-09 1.54852408e-09\n",
      " 8.43648086e-09 6.68326670e-09 2.07319921e-11 3.81153695e-11\n",
      " 1.05962844e-09 1.01485039e+00 8.68914264e-10 4.80592293e-10\n",
      " 3.01731349e-10 1.21792384e+00 1.21792347e+00 5.44170897e-09\n",
      " 5.62980311e-10 7.28479320e-10 2.91922728e-10 5.37191567e-11\n",
      " 2.91981474e-09 6.22724463e-09 6.31258389e-09 5.34376748e-09\n",
      " 1.87860168e-11 2.05348672e-10 6.20455947e-11 4.43994702e-08\n",
      " 4.93734521e-08 2.94979036e-10 2.02932318e+00 1.09348442e-10\n",
      " 1.06329907e-09 1.07615334e-09 7.53551442e-09 1.13229066e-08\n",
      " 1.46667174e-09 3.27818300e-09 1.02719739e-09 3.12257550e-10\n",
      " 8.37828655e-08 4.68160716e-10 3.39717989e-09 1.21792335e+00\n",
      " 1.48259493e-09 1.36669975e-08 1.23693138e-09]\n",
      "A: [[0.         0.65805938 0.         ... 0.65848694 0.65848694 0.66189318]\n",
      " [0.65805938 0.         0.         ... 0.65848694 0.65848694 0.66189318]\n",
      " [0.         0.         0.         ... 0.         0.         0.        ]\n",
      " ...\n",
      " [0.52543224 0.52543224 0.         ... 0.         0.52230279 0.53287612]\n",
      " [0.52543224 0.52543224 0.         ... 0.52230279 0.         0.53287612]\n",
      " [0.80494537 0.80494537 0.         ... 0.80554955 0.80554955 0.        ]]\n",
      "R: 0     1\n",
      "1     1\n",
      "2     1\n",
      "3     1\n",
      "4     1\n",
      "     ..\n",
      "58    1\n",
      "59    0\n",
      "60    1\n",
      "61    1\n",
      "62    1\n",
      "Name: instrumental, Length: 63, dtype: int64\n",
      "qm: [0.467 0.467 0.467 0.467 0.467 0.467 0.467 0.467 0.467 0.467 0.467 0.467\n",
      " 0.467 0.467 0.467 0.467 0.467 0.467 0.467 0.467 0.467 0.467 0.467 0.467\n",
      " 0.467 0.467 0.467 0.467 0.467 0.467 0.467 0.467 0.467 0.467 0.467 0.467\n",
      " 0.467 0.467 0.467 0.467 0.467 0.467 0.467 0.467 0.467 0.467 0.467 0.467\n",
      " 0.467 0.467 0.467 0.467 0.467 0.467 0.467 0.467 0.467 0.467 0.467 0.467\n",
      " 0.467 0.467 0.467]\n",
      "rl: [0.3632 0.3632 0.3632 0.3632 0.3632 0.3632 0.3632 0.3632 0.3632 0.3632\n",
      " 0.3632 0.3632 0.3632 0.3632 0.3632 0.3632 0.3632 0.3632 0.3632 0.3632\n",
      " 0.3632 0.3632 0.3632 0.3632 0.3632 0.3632 0.3632 0.3632 0.3632 0.3632\n",
      " 0.3632 0.3632 0.3632 0.3632 0.3632 0.3632 0.3632 0.3632 0.3632 0.3632\n",
      " 0.3632 0.3632 0.3632 0.3632 0.3632 0.3632 0.3632 0.3632 0.3632 0.3632\n",
      " 0.3632 0.3632 0.3632 0.3632 0.3632 0.3632 0.3632 0.3632 0.3632 0.3632\n",
      " 0.3632 0.3632 0.3632]\n",
      "Imax: [1. 1. 1. 1. 1. 1. 1. 1. 1. 1. 1. 1. 1. 1. 1. 1. 1. 1. 1. 1. 1. 1. 1. 1.\n",
      " 1. 1. 1. 1. 1. 1. 1. 1. 1. 1. 1. 1. 1. 1. 1. 1. 1. 1. 1. 1. 1. 1. 1. 1.\n",
      " 1. 1. 1. 1. 1. 1. 1. 1. 1. 1. 1. 1. 1. 1. 1.]\n",
      "Imin: [0. 0. 0. 0. 0. 0. 0. 0. 0. 0. 0. 0. 0. 0. 0. 0. 0. 0. 0. 0. 0. 0. 0. 0.\n",
      " 0. 0. 0. 0. 0. 0. 0. 0. 0. 0. 0. 0. 0. 0. 0. 0. 0. 0. 0. 0. 0. 0. 0. 0.\n",
      " 0. 0. 0. 0. 0. 0. 0. 0. 0. 0. 0. 0. 0. 0. 0.]\n",
      "Result last: [0.95294089 0.91897137 0.99671498 0.7308808  0.73129617 0.7029156\n",
      " 0.7226443  0.73510301 0.74028952 0.55773357 0.74057155 0.42512867\n",
      " 0.99999973 0.99999987 1.         0.99999982 0.99999996 0.99999999\n",
      " 0.65356987 0.65319847 0.37939732 0.4091468  0.79109014 0.73516251\n",
      " 0.79213555 0.78035782 0.65437305 0.65074851 0.65511087 0.37561805\n",
      " 0.40515517 0.9997322  0.99999999 1.         1.         0.99999999\n",
      " 0.99999999 0.99999978 0.999528   0.99848664 0.99999999 0.99999999\n",
      " 0.99999997 0.39491177 0.45352264 0.64903199 0.70477823 0.72115711\n",
      " 0.73521837 0.19590367 0.53786897 0.51766767 0.73906487 0.74037747\n",
      " 0.7199447  1.         0.60163858 0.99999997 0.99999985 0.38719642\n",
      " 0.44035299 0.40357596 0.81496499]\n"
     ]
    }
   ],
   "source": [
    "print(\"I0:\", I0)\n",
    "print(\"I0:\", I0.shape)\n",
    "print(\"alphas:\", alphas)\n",
    "print(\"alphas:\", alphas.shape)\n",
    "print(\"alphas_prime:\", alphas_prime)\n",
    "print(\"betas:\", betas)\n",
    "print(\"A:\", A)\n",
    "print(\"R:\", R)\n",
    "print(\"qm:\", qm)\n",
    "print(\"rl:\", rl)\n",
    "print(\"Imax:\", Imax)\n",
    "print(\"Imin:\", Imin)\n",
    "\n",
    "instr_idx = np.where(R == 1)[0]\n",
    "num_instr = len(instr_idx)\n",
    "Bs_test = np.zeros((num_instr, T))\n",
    "Bs_test[0, -1] = 1e10  # indikator pertama\n",
    "result, *_ = ppi.run_ppi(\n",
    "    I0, alphas, alphas_prime, betas, A=A, R=R, qm=qm, rl=rl,\n",
    "    Imax=Imax, Imin=Imin, Bs=Bs_test, B_dict=B_dict, T=T, G=goals\n",
    ")\n",
    "print(\"Result last:\", result[:, -1])\n",
    "\n"
   ]
  },
  {
   "cell_type": "code",
   "execution_count": null,
   "id": "6693b0c8-cf13-4ef3-89f1-8a22699bae8d",
   "metadata": {},
   "outputs": [],
   "source": []
  },
  {
   "cell_type": "code",
   "execution_count": 12,
   "id": "6fac43bb-8b61-46cd-8335-55d0feb24aa8",
   "metadata": {},
   "outputs": [
    {
     "name": "stdout",
     "output_type": "stream",
     "text": [
      "count    3.510000e+02\n",
      "mean     2.289289e+09\n",
      "std      1.226330e+10\n",
      "min      1.000000e+05\n",
      "25%      7.388300e+07\n",
      "50%      1.312650e+08\n",
      "75%      3.025955e+08\n",
      "max      1.414875e+11\n",
      "Name: Budget, dtype: float64\n",
      "sorted(df[seriesCode].unique()) ['gci11_Lforgery', 'gci11_Lolsafety', 'gci11_Lonline', 'gci12_RAuditre', 'gci12_Rciip', 'gci12_Rnotif', 'gci12_Rpdp', 'gci12_Rprivacy', 'gci12_Rsign', 'gci12_Rstandard', 'gci21_Nactivity', 'gci21_NatCsirt', 'gci22_Sactivity', 'gci22_Scsirt', 'gci23_FStandard', 'gci23_Fciip', 'gci31_Npriority', 'gci31_Nstrategy', 'gci32_Acapacity', 'gci32_Aciip', 'gci32_Acyber', 'gci33_Maudit', 'gci33_Mmaturity', 'gci33_Mrisk', 'gci41_AWgeneral', 'gci41_AWprivate', 'gci41_AWpublic', 'gci41_AWsociety', 'gci42_Tacreditation', 'gci42_Tprofessional', 'gci42_Tsector', 'gci43_Chigher', 'gci44_Evalscheme', 'gci44_RndAcademic', 'gci44_Rndpublic', 'gci45_Dassociation', 'gci45_Dindustry', 'gci46_Icapacitydev', 'gci46_Iindustry', 'gci51_Bcountry', 'gci51_Bregintl', 'gci52_Mcapacitydev', 'gci52_Minfosharing', 'gci54_PPPdomestic', 'gci54_PPPforeign', 'gci55_Coordination']\n",
      "sorted(all_series_codes_instr) ['gci11_Lforgery', 'gci11_Lolsafety', 'gci11_Lonline', 'gci12_RAuditre', 'gci12_Rciip', 'gci12_Rnotif', 'gci12_Rpdp', 'gci12_Rprivacy', 'gci12_Rsign', 'gci12_Rspam', 'gci12_Rstandard', 'gci21_Nactivity', 'gci21_NatCsirt', 'gci21_Nfirst', 'gci22_Sactivity', 'gci22_Scsirt', 'gci23_FStandard', 'gci23_Fciip', 'gci31_Npriority', 'gci31_Nstrategy', 'gci32_Acapacity', 'gci32_Aciip', 'gci32_Acyber', 'gci33_Maudit', 'gci33_Mmaturity', 'gci33_Mrisk', 'gci41_AWchildren', 'gci41_AWcop', 'gci41_AWdisability', 'gci41_AWelderly', 'gci41_AWgeneral', 'gci41_AWmsme', 'gci41_AWprivate', 'gci41_AWpublic', 'gci41_AWsociety', 'gci42_Tacreditation', 'gci42_Tprofessional', 'gci42_Tsector', 'gci43_Chigher', 'gci43_Cprimary', 'gci43_Csecondary', 'gci44_Evalscheme', 'gci44_RndAcademic', 'gci44_Rndprivate', 'gci44_Rndpublic', 'gci45_Dassociation', 'gci45_Dindustry', 'gci46_Icapacitydev', 'gci46_Iindustry', 'gci46_Irnd', 'gci51_Bcountry', 'gci51_Bregintl', 'gci52_Mcapacitydev', 'gci52_Minfosharing', 'gci54_PPPdomestic', 'gci54_PPPforeign', 'gci55_Coordination']\n",
      "instr_idx: [ 0  1  2  3  4  5  6  7  8  9 10 12 13 14 16 17 18 19 20 21 22 23 24 26\n",
      " 27 28 31 32 33 34 35 36 37 38 39 40 41 42 43 44 45 46 47 48 49 50 51 52\n",
      " 53 54 55 56 57 58 60 61 62]\n",
      "B_dict: {0: [0], 1: [1], 2: [2], 3: [3], 4: [4], 5: [5], 6: [6], 7: [7], 8: [8], 9: [9], 10: [10], 12: [11], 13: [12], 14: [13], 16: [14], 17: [15], 18: [16], 19: [17], 20: [18], 21: [19], 22: [20], 23: [21], 24: [22], 26: [23], 27: [24], 28: [25], 31: [26], 32: [27], 33: [28], 34: [29], 35: [30], 36: [31], 37: [32], 38: [33], 39: [34], 40: [35], 41: [36], 42: [37], 43: [38], 44: [39], 45: [40], 46: [41], 47: [42], 48: [43], 49: [44], 50: [45], 51: [46], 52: [47], 53: [48], 54: [49], 55: [50], 56: [51], 57: [52], 58: [53], 60: [54], 61: [55], 62: [56]}\n",
      "seriesCode\n",
      "gci42_Tprofessional    60\n",
      "gci32_Acyber           19\n",
      "gci12_Rstandard        15\n",
      "gci32_Aciip            14\n",
      "gci46_Icapacitydev     14\n",
      "gci33_Mmaturity        12\n",
      "gci21_NatCsirt         12\n",
      "gci43_Chigher          12\n",
      "gci32_Acapacity        11\n",
      "gci21_Nactivity        11\n",
      "gci42_Tsector          11\n",
      "gci11_Lonline          11\n",
      "gci44_Evalscheme       10\n",
      "gci23_FStandard        10\n",
      "gci44_RndAcademic      10\n",
      "gci55_Coordination     10\n",
      "gci22_Sactivity         9\n",
      "gci22_Scsirt            9\n",
      "gci42_Tacreditation     9\n",
      "gci12_Rpdp              8\n",
      "gci33_Mrisk             7\n",
      "gci33_Maudit            6\n",
      "gci23_Fciip             6\n",
      "gci46_Iindustry         6\n",
      "gci41_AWgeneral         5\n",
      "gci41_AWpublic          5\n",
      "gci12_Rnotif            4\n",
      "gci12_RAuditre          4\n",
      "gci54_PPPdomestic       3\n",
      "gci51_Bregintl          3\n",
      "gci12_Rprivacy          3\n",
      "gci45_Dindustry         3\n",
      "gci45_Dassociation      2\n",
      "gci54_PPPforeign        2\n",
      "gci51_Bcountry          2\n",
      "gci12_Rciip             2\n",
      "gci31_Npriority         2\n",
      "gci44_Rndpublic         1\n",
      "gci31_Nstrategy         1\n",
      "gci12_Rsign             1\n",
      "gci41_AWsociety         1\n",
      "gci52_Mcapacitydev      1\n",
      "gci52_Minfosharing      1\n",
      "gci41_AWprivate         1\n",
      "gci11_Lolsafety         1\n",
      "gci11_Lforgery          1\n",
      "Name: count, dtype: int64\n",
      "Instr kode (masterlist): ['gci11_Lonline', 'gci11_Lforgery', 'gci11_Lolsafety', 'gci12_Rpdp', 'gci12_Rprivacy', 'gci12_Rnotif', 'gci12_RAuditre', 'gci12_Rstandard', 'gci12_Rsign', 'gci12_Rspam', 'gci12_Rciip', 'gci21_NatCsirt', 'gci21_Nactivity', 'gci21_Nfirst', 'gci22_Scsirt', 'gci22_Sactivity', 'gci23_FStandard', 'gci23_Fciip', 'gci31_Nstrategy', 'gci31_Npriority', 'gci32_Acyber', 'gci32_Aciip', 'gci32_Acapacity', 'gci33_Maudit', 'gci33_Mrisk', 'gci33_Mmaturity', 'gci41_AWmsme', 'gci41_AWprivate', 'gci41_AWpublic', 'gci41_AWsociety', 'gci41_AWgeneral', 'gci41_AWelderly', 'gci41_AWdisability', 'gci41_AWcop', 'gci41_AWchildren', 'gci42_Tprofessional', 'gci42_Tacreditation', 'gci42_Tsector', 'gci43_Cprimary', 'gci43_Csecondary', 'gci43_Chigher', 'gci44_Rndprivate', 'gci44_Rndpublic', 'gci44_RndAcademic', 'gci44_Evalscheme', 'gci45_Dindustry', 'gci45_Dassociation', 'gci46_Icapacitydev', 'gci46_Iindustry', 'gci46_Irnd', 'gci51_Bcountry', 'gci51_Bregintl', 'gci52_Minfosharing', 'gci52_Mcapacitydev', 'gci54_PPPdomestic', 'gci54_PPPforeign', 'gci55_Coordination']\n",
      "Mapping: {'gci11_Lonline': 0, 'gci11_Lforgery': 1, 'gci11_Lolsafety': 2, 'gci12_Rpdp': 3, 'gci12_Rprivacy': 4, 'gci12_Rnotif': 5, 'gci12_RAuditre': 6, 'gci12_Rstandard': 7, 'gci12_Rsign': 8, 'gci12_Rspam': 9, 'gci12_Rciip': 10, 'gci21_NatCsirt': 11, 'gci21_Nactivity': 12, 'gci21_Nfirst': 13, 'gci22_Scsirt': 14, 'gci22_Sactivity': 15, 'gci23_FStandard': 16, 'gci23_Fciip': 17, 'gci31_Nstrategy': 18, 'gci31_Npriority': 19, 'gci32_Acyber': 20, 'gci32_Aciip': 21, 'gci32_Acapacity': 22, 'gci33_Maudit': 23, 'gci33_Mrisk': 24, 'gci33_Mmaturity': 25, 'gci41_AWmsme': 26, 'gci41_AWprivate': 27, 'gci41_AWpublic': 28, 'gci41_AWsociety': 29, 'gci41_AWgeneral': 30, 'gci41_AWelderly': 31, 'gci41_AWdisability': 32, 'gci41_AWcop': 33, 'gci41_AWchildren': 34, 'gci42_Tprofessional': 35, 'gci42_Tacreditation': 36, 'gci42_Tsector': 37, 'gci43_Cprimary': 38, 'gci43_Csecondary': 39, 'gci43_Chigher': 40, 'gci44_Rndprivate': 41, 'gci44_Rndpublic': 42, 'gci44_RndAcademic': 43, 'gci44_Evalscheme': 44, 'gci45_Dindustry': 45, 'gci45_Dassociation': 46, 'gci46_Icapacitydev': 47, 'gci46_Iindustry': 48, 'gci46_Irnd': 49, 'gci51_Bcountry': 50, 'gci51_Bregintl': 51, 'gci52_Minfosharing': 52, 'gci52_Mcapacitydev': 53, 'gci54_PPPdomestic': 54, 'gci54_PPPforeign': 55, 'gci55_Coordination': 56}\n"
     ]
    },
    {
     "ename": "NameError",
     "evalue": "name 'T_full' is not defined",
     "output_type": "error",
     "traceback": [
      "\u001b[1;31m---------------------------------------------------------------------------\u001b[0m",
      "\u001b[1;31mNameError\u001b[0m                                 Traceback (most recent call last)",
      "Cell \u001b[1;32mIn[12], line 55\u001b[0m\n\u001b[0;32m     49\u001b[0m outputs \u001b[38;5;241m=\u001b[39m []\n\u001b[0;32m     50\u001b[0m \u001b[38;5;28;01mfor\u001b[39;00m _ \u001b[38;5;129;01min\u001b[39;00m \u001b[38;5;28mrange\u001b[39m(sample_size):\n\u001b[0;32m     51\u001b[0m     output \u001b[38;5;241m=\u001b[39m ppi\u001b[38;5;241m.\u001b[39mrun_ppi(\n\u001b[0;32m     52\u001b[0m         I0, alphas, alphas_prime, betas,\n\u001b[0;32m     53\u001b[0m         A\u001b[38;5;241m=\u001b[39mA, R\u001b[38;5;241m=\u001b[39mR, qm\u001b[38;5;241m=\u001b[39mqm, rl\u001b[38;5;241m=\u001b[39mrl,\n\u001b[0;32m     54\u001b[0m         Imax\u001b[38;5;241m=\u001b[39mImax, Imin\u001b[38;5;241m=\u001b[39mImin,\n\u001b[1;32m---> 55\u001b[0m         Bs\u001b[38;5;241m=\u001b[39mBs, B_dict\u001b[38;5;241m=\u001b[39mB_dict, G\u001b[38;5;241m=\u001b[39mgoals, T\u001b[38;5;241m=\u001b[39mT_full\n\u001b[0;32m     56\u001b[0m     )\n\u001b[0;32m     57\u001b[0m     outputs\u001b[38;5;241m.\u001b[39mappend(output)\n\u001b[0;32m     59\u001b[0m tsI, \u001b[38;5;241m*\u001b[39m_ \u001b[38;5;241m=\u001b[39m \u001b[38;5;28mzip\u001b[39m(\u001b[38;5;241m*\u001b[39moutputs)\n",
      "\u001b[1;31mNameError\u001b[0m: name 'T_full' is not defined"
     ]
    }
   ],
   "source": [
    "import pandas as pd\n",
    "import numpy as np\n",
    "\n",
    "# --- 1. Baca Data Program ---\n",
    "df = pd.read_csv('clean_data'+scenario+'/program_2025.csv')\n",
    "df = df.dropna(subset=['seriesCode'])\n",
    "df['Budget'] = df['Budget'].astype(str).str.replace(',', '').astype(float)\n",
    "df['seriesCode'] = df['seriesCode'].astype(str)\n",
    "\n",
    "print(df['Budget'].describe())\n",
    "\n",
    "\n",
    "# --- 2. Ambil Masterlist Indikator, Sinkronisasi dengan Instrumental ---\n",
    "# Asumsi: all_series_codes = urutan 63 indikator di model, urut!\n",
    "all_series_codes = df_indis[\"seriesCode\"].tolist()   # 63 kode indikator, urut\n",
    "\n",
    "# Instrumental indikator: hanya 57 (R==1)\n",
    "instr_idx = np.where(R == 1)[0]\n",
    "num_instr = len(instr_idx)\n",
    "all_series_codes_instr = [all_series_codes[i] for i in instr_idx]\n",
    "print('sorted(df[seriesCode].unique())',sorted(df['seriesCode'].unique()))\n",
    "print('sorted(all_series_codes_instr)',sorted(all_series_codes_instr))\n",
    "scode_to_idx = {scode: i for i, scode in enumerate(all_series_codes_instr)}\n",
    "for scode in df['seriesCode'].unique():\n",
    "    if scode not in scode_to_idx:\n",
    "        print('Kode tidak match:', scode)\n",
    "\n",
    "\n",
    "# --- 3. Buat Bs_used dan B_dict Hanya untuk Instrumental ---\n",
    "T = 60   # atau sesuai model kamu\n",
    "Bs_used = np.zeros((len(all_series_codes), T))\n",
    "for i, scode in enumerate(all_series_codes):\n",
    "    Bs_used[i, -1] = df[df['seriesCode'] == scode]['Budget'].sum()\n",
    "\n",
    "Bs_used_instr = Bs_used[instr_idx, :]  # Ambil hanya baris indikator instrumental\n",
    "\n",
    "# instr_idx = np.where(R == 1)[0] # Sudah dapat\n",
    "B_dict = {int(idx): [i] for i, idx in enumerate(instr_idx)}\n",
    "\n",
    "print(\"instr_idx:\", instr_idx)\n",
    "print(\"B_dict:\", B_dict)\n",
    "print(df['seriesCode'].value_counts())\n",
    "print(\"Instr kode (masterlist):\", all_series_codes_instr)\n",
    "print(\"Mapping:\", scode_to_idx)\n",
    "\n",
    "\n",
    "# --- 4. Jalankan Simulasi Baseline ---\n",
    "sample_size=30\n",
    "outputs = []\n",
    "for _ in range(sample_size):\n",
    "    output = ppi.run_ppi(\n",
    "        I0, alphas, alphas_prime, betas,\n",
    "        A=A, R=R, qm=qm, rl=rl,\n",
    "        Imax=Imax, Imin=Imin,\n",
    "        Bs=Bs, B_dict=B_dict, G=goals, T=T_full\n",
    "    )\n",
    "    outputs.append(output)\n",
    "\n",
    "tsI, *_ = zip(*outputs)\n",
    "tsI_hat = np.mean(tsI, axis=0)  # (n, T_full)\n",
    "# return IF akhir (last timestep) dari rata-rata simulasi\n",
    "baseline_scores = tsI_hat[:, -1]\n",
    "\n",
    "\n",
    "# --- 5. Loop Marginal Impact: Program ke Indikator Sendiri ---\n",
    "impact_to_own_indicator = []\n",
    "\n",
    "for idx, row in df.iterrows():\n",
    "    Bs_test = np.zeros((num_instr, T))  # zeros untuk setiap simulasi program\n",
    "    scode = row['seriesCode']\n",
    "    budget = row['Budget']\n",
    "    idx_series = scode_to_idx.get(scode, None)\n",
    "    if idx_series is not None:\n",
    "        Bs_test[idx_series, -1] = budget  # hanya 1 sel, indikator sendiri\n",
    "        \n",
    "        # --- JALANKAN SIMULASI MARGINAL IMPACT ---\n",
    "        sample_size=30\n",
    "        outputs = []\n",
    "        for _ in range(sample_size):\n",
    "            output = ppi.run_ppi(\n",
    "                I0, alphas, alphas_prime, betas,\n",
    "                A=A, R=R, qm=qm, rl=rl,\n",
    "                Imax=Imax, Imin=Imin,\n",
    "                Bs=Bs, B_dict=B_dict, G=goals, T=T_full\n",
    "            )\n",
    "            outputs.append(output)\n",
    "\n",
    "        tsI, *_ = zip(*outputs)\n",
    "        tsI_hat = np.mean(tsI, axis=0)  # (n, T_full)\n",
    "        indicator_scores = tsI_hat[:, -1]\n",
    "        baseline = baseline_scores[idx_series]\n",
    "        print(f\"[{idx}] {scode}: Baseline = {baseline}, Marginal = {indicator_scores[idx_series]}\")\n",
    "        impact = indicator_scores[idx_series] - baseline\n",
    "        impact_to_own_indicator.append(impact)\n",
    "    else:\n",
    "        print(f\"WARNING: {scode} tidak ada di masterlist!\")\n",
    "        impact_to_own_indicator.append(np.nan)\n",
    "\n",
    "# --- 6. Gabungkan Hasil ke DataFrame dan Ekspor ---\n",
    "df_result = df[['program_name', 'seriesCode', 'Budget']].copy()\n",
    "df_result['impact_to_own_indicator'] = impact_to_own_indicator\n",
    "df_result.to_csv('impact_per_program_to_own_indicator.csv', index=False)\n",
    "print(\"Sudah diekspor ke impact_per_program_to_own_indicator.csv\")\n",
    "print(df_result.head())\n"
   ]
  },
  {
   "cell_type": "code",
   "execution_count": null,
   "id": "ca54c827-253f-4435-a4cb-80f62774f182",
   "metadata": {},
   "outputs": [],
   "source": []
  },
  {
   "cell_type": "code",
   "execution_count": null,
   "id": "51639c11-cba0-4689-8450-1fb137b7147f",
   "metadata": {},
   "outputs": [],
   "source": [
    "import pandas as pd\n",
    "import numpy as np\n",
    "from concurrent.futures import ThreadPoolExecutor, as_completed\n",
    "import matplotlib.pyplot as plt\n",
    "\n",
    "# 1. Baca file dan bersihkan\n",
    "df = pd.read_csv('clean_data'+scenario+'/program_2025.csv')\n",
    "df = df.dropna(subset=['seriesCode'])   # pastikan tidak ada NaN\n",
    "df['Budget'] = df['Budget'].astype(str).str.replace(',', '').astype(float)\n",
    "df['seriesCode'] = df['seriesCode'].astype(str)\n",
    "\n",
    "# 2. Buat master list seriesCode (bisa diambil dari Bs_used lama, atau union semua seriesCode di dataset)\n",
    "# Jika kamu sudah punya urutan/daftar seriesCode dari Bs_used, pakai itu!\n",
    "series_codes_from_Bs_used = sorted(set(df['seriesCode'].tolist()))  # <-- isi sesuai urutan Bs_used kamu (contoh: ['gci11_Lforgery', ...])\n",
    "all_series_codes = sorted(set(df['seriesCode'].tolist()) | set(series_codes_from_Bs_used))\n",
    "                          \n",
    "all_series_codes = list(series_codes_from_Bs_used) if series_codes_from_Bs_used else sorted(all_series_codes)\n",
    "scode_to_idx = {scode: i for i, scode in enumerate(all_series_codes)}\n",
    "num_series = len(all_series_codes)\n",
    "T =60  # jumlah tahun\n",
    "\n",
    "\n",
    "\n",
    "\n"
   ]
  },
  {
   "cell_type": "code",
   "execution_count": null,
   "id": "5602b95a-2aed-4072-add2-b905b42e7b10",
   "metadata": {},
   "outputs": [],
   "source": [
    "# 5. Marginal impact per program (1 program aktif, yang lain 0)\n",
    "def marginal_impact_per_program(idx):\n",
    "    Bs_test = np.zeros((num_indikator, T))\n",
    "    row = df.iloc[idx]\n",
    "    scode = row['seriesCode']\n",
    "    budget = row['Budget']\n",
    "    idx_series = scode_to_idx.get(scode, None)\n",
    "    if idx_series is not None:\n",
    "        Bs_test[idx_series, -1] = budget\n",
    "    else:\n",
    "        print(f\"Warning: {scode} tidak ada di masterlist!\")\n",
    "    print(\"Nonzero di Bs_test:\", np.nonzero(Bs_test))\n",
    "    print(\"Value nonzero:\", Bs_test[np.nonzero(Bs_test)])\n",
    "    # ... lanjut run_ppi ...\n",
    "\n"
   ]
  },
  {
   "cell_type": "code",
   "execution_count": null,
   "id": "5446f672-ebe1-4a22-a8df-b356a41fdbf9",
   "metadata": {},
   "outputs": [],
   "source": [
    "\n",
    "print(\"R shape:\", R.shape)\n",
    "print(\"Number of instrumental indicators:\", int(np.sum(R)))\n",
    "print(\"qm shape:\", np.shape(qm))\n",
    "print(\"qm:\", qm)\n",
    "print(\"B_dict:\", np.shape(B_dict))\n",
    "print(\"B_dict:\", B_dict)\n",
    "print(\"B_dict_new:\", np.shape(B_dict_new))\n",
    "print(\"B_dict_new:\", B_dict_new)\n",
    "print(\"Bs_Used:\", np.shape(Bs_used))\n",
    "print(\"Bs_used:\", Bs_used)\n",
    "print(\"Jumlah angka 1 di R:\", int(np.sum(R)))\n",
    "# 6. Simulasi baseline (semua program dijalankan bersama)\n",
    "result_baseline, *_ = ppi.run_ppi(\n",
    "    I0, alphas, alphas_prime, betas, A=A, R=R, qm=qm, rl=rl,\n",
    "    Imax=Imax, Imin=Imin, Bs=Bs_used, B_dict=B_dict_new, T=T, G=goals\n",
    ")\n",
    "baseline_scores = result_baseline[:, -1]"
   ]
  },
  {
   "cell_type": "code",
   "execution_count": null,
   "id": "f096433f-b177-4bc9-9bc2-81261bbfd25a",
   "metadata": {},
   "outputs": [],
   "source": [
    "# 7. Paralel marginal impact\n",
    "num_indikator = 57\n",
    "indicator_scores_list = []\n",
    "with ThreadPoolExecutor(max_workers=8) as executor:\n",
    "    futures = [executor.submit(marginal_impact_per_program, i) for i in range(len(df))]\n",
    "    for future in as_completed(futures):\n",
    "        indicator_scores_list.append(future.result())\n",
    "indicator_scores_list.sort(key=lambda x: x[0])\n",
    "all_scores = np.vstack([x[1] for x in indicator_scores_list])\n"
   ]
  },
  {
   "cell_type": "code",
   "execution_count": null,
   "id": "73f68916-eb24-4eb6-9b18-409d042607b7",
   "metadata": {},
   "outputs": [],
   "source": [
    "# 8. Hasil ke DataFrame\n",
    "all_series_codes = df_indis[\"seriesCode\"].tolist()\n",
    "print(\"all_scores shape:\", all_scores.shape)  # Harus (351, 63)\n",
    "print(\"len(all_series_codes):\", len(all_series_codes))  # Harus 63\n",
    "df_marginal = pd.DataFrame(all_scores, columns=all_series_codes)\n",
    "df_marginal['program_index'] = range(len(df))\n",
    "df_marginal['program_name'] = df['program_name']\n",
    "df_marginal['seriesCode'] = df['seriesCode']"
   ]
  },
  {
   "cell_type": "code",
   "execution_count": null,
   "id": "7ebc0427-a222-4cc7-914e-f3feb617dbbe",
   "metadata": {},
   "outputs": [],
   "source": [
    "# 9. Delta (impact) terhadap baseline\n",
    "for i, scode in enumerate(all_series_codes):\n",
    "    df_marginal[f'delta_{scode}'] = df_marginal[scode] - baseline_scores[i]"
   ]
  },
  {
   "cell_type": "code",
   "execution_count": null,
   "id": "ee462bf0-a8ca-48d5-b71d-fa28031b204e",
   "metadata": {},
   "outputs": [],
   "source": [
    "impact_to_own_indicator = []\n",
    "\n",
    "for idx, row in df.iterrows():\n",
    "    indikator = row['seriesCode']\n",
    "    delta_col = f\"delta_{indikator}\"\n",
    "    impact = df_marginal.loc[idx, delta_col]\n",
    "    impact_to_own_indicator.append(impact)\n",
    "\n",
    "df_marginal['impact_to_own_indicator'] = impact_to_own_indicator"
   ]
  },
  {
   "cell_type": "code",
   "execution_count": null,
   "id": "bd47ddf1-459b-4517-942d-531f3254ccf1",
   "metadata": {},
   "outputs": [],
   "source": [
    "# 10. Visualisasi Heatmap\n",
    "delta_cols = [c for c in df_marginal.columns if c.startswith('delta_')]\n",
    "impact_matrix = df_marginal[delta_cols].values\n",
    "\n",
    "plt.figure(figsize=(12, max(6, len(df_marginal)//3)))\n",
    "plt.imshow(impact_matrix, aspect='auto', cmap='viridis')\n",
    "plt.colorbar(label='Impact (Delta vs Baseline)')\n",
    "plt.xticks(ticks=range(len(delta_cols)), labels=[c.replace('delta_', '') for c in delta_cols], rotation=45)\n",
    "plt.yticks(ticks=range(len(df_marginal)), labels=df_marginal['program_name'])\n",
    "plt.xlabel('Indicator (seriesCode)')\n",
    "plt.ylabel('Program')\n",
    "plt.title('Marginal Impact of Each Program on Indicators')\n",
    "plt.tight_layout()\n",
    "plt.show()"
   ]
  },
  {
   "cell_type": "code",
   "execution_count": null,
   "id": "fdcf3e4d-afa5-45aa-815f-ed982e4bd54d",
   "metadata": {},
   "outputs": [],
   "source": []
  },
  {
   "cell_type": "code",
   "execution_count": null,
   "id": "b3564c09-2fb9-41e5-8d06-c2ccb9d350a1",
   "metadata": {},
   "outputs": [],
   "source": [
    "import matplotlib.pyplot as plt\n",
    "\n",
    "# Ambil hanya kolom delta (impact program thd indikator)\n",
    "delta_cols = [col for col in df_marginal.columns if col.startswith('delta_')]\n",
    "impact_matrix = df_marginal[delta_cols].values\n",
    "\n",
    "plt.figure(figsize=(12, max(6, len(df_marginal)//3)))\n",
    "plt.imshow(impact_matrix, aspect='auto', cmap='viridis')\n",
    "plt.colorbar(label='Impact (Delta vs Baseline)')\n",
    "plt.xticks(ticks=range(len(delta_cols)), labels=[c.replace('delta_', '') for c in delta_cols], rotation=45)\n",
    "plt.yticks(ticks=range(len(df_marginal)), labels=df_marginal['program_name'])\n",
    "plt.xlabel('Indicator (seriesCode)')\n",
    "plt.ylabel('Program')\n",
    "plt.title('Marginal Impact of Each Program on Indicators')\n",
    "plt.tight_layout()\n",
    "plt.show()"
   ]
  },
  {
   "cell_type": "code",
   "execution_count": null,
   "id": "8ce0beb6-0e2a-4a40-90cf-d292ece0bd18",
   "metadata": {},
   "outputs": [],
   "source": [
    "# Pilih satu indikator misal 'gci11_Lforgery'\n",
    "chosen_indicator = 'gci51_Bregintl'\n",
    "col_name = f'delta_{chosen_indicator}'\n",
    "top_programs = df_marginal[[col_name, 'program_name']].sort_values(col_name, ascending=False).head(10)\n",
    "\n",
    "plt.figure(figsize=(8,5))\n",
    "plt.barh(top_programs['program_name'], top_programs[col_name])\n",
    "plt.xlabel('Impact (Delta vs Baseline)')\n",
    "plt.title(f'Top 10 Program Impact on {chosen_indicator}')\n",
    "plt.gca().invert_yaxis()\n",
    "plt.tight_layout()\n",
    "plt.show()"
   ]
  },
  {
   "cell_type": "code",
   "execution_count": null,
   "id": "0c56630c-5716-4535-8e64-5ea8a688a812",
   "metadata": {},
   "outputs": [],
   "source": [
    "plt.figure(figsize=(10,7))\n",
    "plt.bar(df_marginal['program_name'], df_marginal[col_name])\n",
    "plt.xticks(rotation=90)\n",
    "plt.ylabel('Impact (Delta vs Baseline)')\n",
    "plt.title(f'Impact of All Programs on {chosen_indicator}')\n",
    "plt.tight_layout()\n",
    "plt.show()"
   ]
  },
  {
   "cell_type": "code",
   "execution_count": null,
   "id": "dfc71bc7-f202-44ed-a257-4724401512f3",
   "metadata": {},
   "outputs": [],
   "source": [
    "# Kolom delta_*\n",
    "delta_cols = [c for c in df_marginal.columns if c.startswith('delta_')]\n",
    "# Total absolute impact per program\n",
    "df_marginal['total_abs_impact'] = df_marginal[delta_cols].abs().sum(axis=1)\n",
    "\n",
    "df_marginal['total_signed_impact'] = df_marginal[delta_cols].sum(axis=1)\n",
    "\n",
    "# Urutkan program berdasarkan total_abs_impact\n",
    "top_n = 15  # misal, tampilkan 15 program teratas\n",
    "df_plot = df_marginal.sort_values('total_abs_impact', ascending=False).head(top_n)\n",
    "\n",
    "import matplotlib.pyplot as plt\n",
    "\n",
    "plt.figure(figsize=(10,6))\n",
    "plt.barh(df_plot['program_name'], df_plot['total_abs_impact'])\n",
    "plt.xlabel('Total Absolute Impact Across All Indicators')\n",
    "plt.title(f'Top {top_n} Programs by Overall Quantitative Impact')\n",
    "plt.gca().invert_yaxis()\n",
    "plt.tight_layout()\n",
    "plt.show()\n",
    "\n"
   ]
  },
  {
   "cell_type": "code",
   "execution_count": null,
   "id": "6b60cef1-d37c-4040-95e0-ebbc0f37cff7",
   "metadata": {},
   "outputs": [],
   "source": [
    "df_top = df_marginal.sort_values('total_abs_impact', ascending=False).head(100)\n",
    "plt.figure(figsize=(7,7))\n",
    "plt.pie(df_top['total_abs_impact'], labels=df_top['program_name'], autopct='%1.1f%%')\n",
    "plt.title('Top 10 Programs: Contribution to Total Absolute Impact')\n",
    "plt.show()\n"
   ]
  },
  {
   "cell_type": "code",
   "execution_count": null,
   "id": "9a00777d-6bf2-4d7d-9eef-cf9c0eacfdc5",
   "metadata": {},
   "outputs": [],
   "source": [
    "# 1. Hitung total absolute impact untuk tiap program\n",
    "delta_cols = [c for c in df_marginal.columns if c.startswith('delta_')]\n",
    "df_marginal['total_abs_impact'] = df_marginal[delta_cols].abs().sum(axis=1)\n",
    "\n",
    "# 2. Urutkan, ambil top 15 program paling “berpengaruh”\n",
    "top_n = 30\n",
    "df_plot = df_marginal.sort_values('total_abs_impact', ascending=False).head(top_n)\n",
    "\n",
    "import matplotlib.pyplot as plt\n",
    "\n",
    "plt.figure(figsize=(10,6))\n",
    "plt.barh(df_plot['program_name'], df_plot['total_abs_impact'])\n",
    "plt.xlabel('Total Absolute Impact Across All Indicators')\n",
    "plt.title(f'Top {top_n} Programs by Overall Quantitative Impact')\n",
    "plt.gca().invert_yaxis()\n",
    "plt.tight_layout()\n",
    "plt.show()"
   ]
  },
  {
   "cell_type": "code",
   "execution_count": null,
   "id": "a10087c0-5b03-4b28-b38d-50ef76e4ef1e",
   "metadata": {},
   "outputs": [],
   "source": [
    "print(df_marginal[delta_cols].head())"
   ]
  },
  {
   "cell_type": "code",
   "execution_count": null,
   "id": "284c1ea0-da2d-46f4-801f-9710ec487272",
   "metadata": {},
   "outputs": [],
   "source": [
    "for idx in range(3):\n",
    "    print(f\"Program {df.iloc[idx]['program_name']}\")\n",
    "    print(\"Delta:\", df_marginal.loc[idx, delta_cols].values)"
   ]
  },
  {
   "cell_type": "code",
   "execution_count": null,
   "id": "a739e5a1-8884-4472-8b14-3c1da3bea917",
   "metadata": {},
   "outputs": [],
   "source": [
    "!pip install ipywidgets"
   ]
  },
  {
   "cell_type": "code",
   "execution_count": null,
   "id": "6327ca50-1b18-4574-83ad-ba6fae3fafce",
   "metadata": {},
   "outputs": [],
   "source": [
    "import ipywidgets as widgets\n",
    "from IPython.display import display\n",
    "import matplotlib.pyplot as plt\n",
    "\n",
    "# List indikator dari all_series_codes atau df_indis\n",
    "indicator_options = all_series_codes  # atau df_indis[\"seriesCode\"].tolist()\n",
    "\n",
    "def plot_impact_for_indicator(indicator):\n",
    "    delta_col = f\"delta_{indicator}\"\n",
    "    if delta_col not in df_marginal.columns:\n",
    "        print(f\"Tidak ada kolom {delta_col}\")\n",
    "        return\n",
    "    sorted_df = df_marginal.sort_values(delta_col, ascending=False)\n",
    "    plt.figure(figsize=(10,6))\n",
    "    plt.barh(sorted_df['program_name'], sorted_df[delta_col])\n",
    "    plt.xlabel('Impact Value')\n",
    "    plt.title(f'Marginal Impact of Programs on Indicator: {indicator}')\n",
    "    plt.gca().invert_yaxis()\n",
    "    plt.tight_layout()\n",
    "    plt.show()\n",
    "\n",
    "# Widget selector\n",
    "indicator_selector = widgets.Dropdown(\n",
    "    options=indicator_options,\n",
    "    value=indicator_options[0],\n",
    "    description='Indicator:',\n",
    "    style={'description_width': 'initial'},\n",
    "    layout=widgets.Layout(width='50%')\n",
    ")\n",
    "\n",
    "widgets.interact(plot_impact_for_indicator, indicator=indicator_selector)\n"
   ]
  },
  {
   "cell_type": "code",
   "execution_count": null,
   "id": "faa49980-f3ef-430c-993e-f08ce0e02762",
   "metadata": {},
   "outputs": [],
   "source": [
    "indicator_options = all_series_codes  # atau df_indis[\"seriesCode\"].tolist()\n",
    "print(\"Pilih salah satu indikator berikut:\")\n",
    "print(indicator_options)\n",
    "\n",
    "selected_indicator = input(\"Masukkan nama seriesCode indikator: \")\n",
    "delta_col = f\"delta_{selected_indicator}\"\n",
    "\n",
    "if delta_col in df_marginal.columns:\n",
    "    sorted_df = df_marginal.sort_values(delta_col, ascending=False)\n",
    "    import matplotlib.pyplot as plt\n",
    "    plt.figure(figsize=(10,6))\n",
    "    plt.barh(sorted_df['program_name'], sorted_df[delta_col])\n",
    "    plt.xlabel('Impact Value')\n",
    "    plt.title(f'Marginal Impact of Programs on Indicator: {selected_indicator}')\n",
    "    plt.gca().invert_yaxis()\n",
    "    plt.tight_layout()\n",
    "    plt.show()\n",
    "else:\n",
    "    print(f\"Indikator {selected_indicator} tidak ditemukan.\")\n"
   ]
  },
  {
   "cell_type": "code",
   "execution_count": null,
   "id": "6faad6fa-0097-4e38-9732-9797a85921b1",
   "metadata": {},
   "outputs": [],
   "source": [
    "df_marginal.to_csv('df_marginal.csv', index=False)\n",
    "print(\"Seluruh df_marginal sudah diekspor ke df_marginal.csv\")"
   ]
  },
  {
   "cell_type": "code",
   "execution_count": null,
   "id": "c1ceba2b-926a-431d-a385-3ea9b190441d",
   "metadata": {},
   "outputs": [],
   "source": []
  }
 ],
 "metadata": {
  "colab": {
   "include_colab_link": true,
   "provenance": []
  },
  "kernelspec": {
   "display_name": "Python 3 (ipykernel)",
   "language": "python",
   "name": "python3"
  },
  "language_info": {
   "codemirror_mode": {
    "name": "ipython",
    "version": 3
   },
   "file_extension": ".py",
   "mimetype": "text/x-python",
   "name": "python",
   "nbconvert_exporter": "python",
   "pygments_lexer": "ipython3",
   "version": "3.12.7"
  }
 },
 "nbformat": 4,
 "nbformat_minor": 5
}
