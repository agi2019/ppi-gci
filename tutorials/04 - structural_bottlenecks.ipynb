{
  "cells": [
    {
      "cell_type": "markdown",
      "metadata": {
        "id": "view-in-github",
        "colab_type": "text"
      },
      "source": [
        "<a href=\"https://colab.research.google.com/github/agi2019/ppi-gci/blob/main/tutorials/04%20-%20structural_bottlenecks.ipynb\" target=\"_parent\"><img src=\"https://colab.research.google.com/assets/colab-badge.svg\" alt=\"Open In Colab\"/></a>"
      ]
    },
    {
      "cell_type": "markdown",
      "id": "2aa1c1d3",
      "metadata": {
        "id": "2aa1c1d3"
      },
      "source": [
        "# <center>Structural bottlenecks</center>\n",
        "\n",
        "Prepared by Omar A. Guerrero (oguerrero@turing.ac.uk, <a href=\"https://twitter.com/guerrero_oa\">@guerrero_oa</a>) Adapted for PPI-Global Cybersecurity Index (GCI) project on cybersecurity policy prioritisation\n",
        "\n",
        "The previous page explained how to simulate a budgetary intervention. The results suggest that, for this example, the indicators respond modestly to linear increments in government expenditure. In this tutorial, I will explain how to expand on the idea of expenditure sensitivity in order to quantify structural bottlenecks."
      ]
    },
    {
      "cell_type": "markdown",
      "id": "b6bd88e8",
      "metadata": {
        "id": "b6bd88e8"
      },
      "source": [
        "## Importing Python libraries to manipulate and visualise data"
      ]
    },
    {
      "cell_type": "code",
      "execution_count": 9,
      "id": "f39146c9",
      "metadata": {
        "id": "f39146c9"
      },
      "outputs": [],
      "source": [
        "import pandas as pd\n",
        "import numpy as np\n",
        "import matplotlib.pyplot as plt"
      ]
    },
    {
      "cell_type": "markdown",
      "source": [
        "Selecting Scenario"
      ],
      "metadata": {
        "id": "XVg-4WsELywQ"
      },
      "id": "XVg-4WsELywQ"
    },
    {
      "cell_type": "code",
      "source": [
        "#scenario = '_scenario1'\n",
        "scenario = '_scenario2'\n",
        "#scenario = '_scenario3'"
      ],
      "metadata": {
        "id": "P8m-8YV0L0_x"
      },
      "id": "P8m-8YV0L0_x",
      "execution_count": 10,
      "outputs": []
    },
    {
      "cell_type": "markdown",
      "id": "956cea1e",
      "metadata": {
        "id": "956cea1e"
      },
      "source": [
        "## Importing PPI functions"
      ]
    },
    {
      "cell_type": "code",
      "execution_count": 11,
      "id": "30ba1860",
      "metadata": {
        "id": "30ba1860"
      },
      "outputs": [],
      "source": [
        "import requests\n",
        "url = 'https://raw.githubusercontent.com/agi2019/ppi-gci/main/source_code/policy_priority_inference.py'\n",
        "r = requests.get(url)\n",
        "with open('policy_priority_inference.py', 'w') as f:\n",
        "    f.write(r.text)\n",
        "import policy_priority_inference as ppi"
      ]
    },
    {
      "cell_type": "markdown",
      "id": "cdc4d777",
      "metadata": {
        "id": "cdc4d777"
      },
      "source": [
        "## Load data\n",
        "\n",
        "**New disbursement schedule for simulating next 2 years, assuming that expenditure will be the same as the last period of the sample**"
      ]
    },
    {
      "cell_type": "code",
      "execution_count": 12,
      "id": "58ce3b24",
      "metadata": {
        "id": "58ce3b24"
      },
      "outputs": [],
      "source": [
        "# INDICATORS\n",
        "df_indis = pd.read_csv('https://raw.githubusercontent.com/agi2019/ppi-gci/main/tutorials/clean_data'+scenario+'/data_indicators.csv')\n",
        "N = len(df_indis) # number of indicators\n",
        "I0 = df_indis.minVals.values # initial values\n",
        "R = df_indis.instrumental # instrumental indicators\n",
        "qm = df_indis.qm.values # quality of monitoring\n",
        "rl = df_indis.rl.values # quality of the rule of law\n",
        "indis_index = dict([(code, i) for i, code in enumerate(df_indis.seriesCode)]) # used to build the network matrix\n",
        "Imax = df_indis.maxVals.values\n",
        "Imin = df_indis.minVals.values\n",
        "goals = np.random.rand(N)*(Imax - I0) + I0\n",
        "\n",
        "# PARAMETERS\n",
        "df_params = pd.read_csv('https://raw.githubusercontent.com/agi2019/ppi-gci/main/tutorials/clean_data'+scenario+'/parameters.csv')\n",
        "alphas = df_params.alpha.values\n",
        "alphas_prime = df_params.alpha_prime.values\n",
        "betas = df_params.beta.values\n",
        "\n",
        "# NETWORK\n",
        "df_net = pd.read_csv('https://raw.githubusercontent.com/agi2019/ppi-gci/main/tutorials/clean_data'+scenario+'/data_network.csv')\n",
        "A = np.zeros((N, N)) # adjacency matrix\n",
        "for index, row in df_net.iterrows():\n",
        "    i = indis_index[row.origin]\n",
        "    j = indis_index[row.destination]\n",
        "    w = row.weight\n",
        "    A[i,j] = w\n",
        "\n",
        "# DISBURSEMENT SCHEDULE (make sure that the disbursement schedule is consistent with T, otherwise PPI will simulate the T of the calibration)\n",
        "T = 60\n",
        "df_exp = pd.read_csv('https://raw.githubusercontent.com/agi2019/ppi-gci/main/tutorials/clean_data'+scenario+'/data_expenditure.csv')\n",
        "Bs_retrospective = df_exp.values[:,1::] # disbursement schedule (assumes that the expenditure programmes are properly sorted)\n",
        "# Create a new disbursement schedule assuming that expenditure will be the same as the last period of the sample\n",
        "Bs = np.tile(Bs_retrospective[:,-1], (T,1)).T\n",
        "\n",
        "# RELATIONAL TABLE\n",
        "df_rela = pd.read_csv('https://raw.githubusercontent.com/agi2019/ppi-gci/main/tutorials/clean_data'+scenario+'/data_relational_table.csv')\n",
        "B_dict = {}\n",
        "for index, row in df_rela.iterrows():\n",
        "    B_dict[indis_index[row.seriesCode]] = [programme for programme in row.values[1::][row.values[1::].astype(str)!='nan']]"
      ]
    },
    {
      "cell_type": "markdown",
      "id": "fa8f64a1",
      "metadata": {
        "id": "fa8f64a1"
      },
      "source": [
        "## Bottlenecks\n",
        "\n",
        "In the ppi book, we develop two definitions of structural bottlenecks:\n",
        "\n",
        "1. Idiosyncratic bottlenecks: Those that focus on the structural constraints of a single indicator.\n",
        "2. Systemic bottlenecks: Those that \"clog\" the development of other policy issues through indirect impacts.\n",
        "\n",
        "This page will focus on the first type: <strong>idiosyncratic bottlenecks</strong>. An idiosyncratic bottleneck manifests when an indicator with a bad historical performance responds poorly to budgetary interventions. <b>An indicator may not respond to an expenditure programme because it experiences strong structural constraints that can only be lifted through long-term structural reforms (e.g., redesigning the relevant government programmes). This type of problems cannot be solved by spending more resources as the government programmes in place are likely ill-conceived.</b>\n",
        "\n",
        "\n",
        "### The budgetary frontier\n",
        "\n",
        "To identify an idiosyncratic bottleneck you need to think of a hypothetical budgetary intervention that would lift all financial obstacles and negative spillovers. Effectively, such scenario would mean that the probability of success of the intervened indicator is always 1. This hypothetical scenario is called the <strong>budgetary frontier</strong>, and was originally developed in https://doi.org/10.1007/s11625-022-01095-1. The idea is that, if a government operates on the budgetary frontier, and there are indicators that respond poorly, it means that they are being constrained by long-term structural factors.\n",
        "\n",
        "To perform frontier analysis, the `run_ppi` function offers the optional parameter `frontier`. This parameter consists of a vector specifying the probability of success that one would like to exogenously impose to each indicator. Hence, for this tutorial, I will impose a value of 1 for all indicators at the same time. A more nuanced analysis may consider to only analyse one or a subset of indicators at a time.\n",
        "\n",
        "\n",
        "### Parallelisation\n",
        "\n",
        "Instead of calling the `run_ppi` function in an explicit `for` loop, I will use `run_ppi_parallel`, which allows to perform multiple Monte Carlo simulations and distribute their load across four cores or processors. This function takes the same inputs as `run_ppi` with a couple of additional ones to specify the number of simulations. First, I will run the baseline simulation and, then, the frontier one."
      ]
    },
    {
      "cell_type": "code",
      "execution_count": 13,
      "id": "1e1be983",
      "metadata": {
        "id": "1e1be983"
      },
      "outputs": [],
      "source": [
        "parallel_processes=4\n",
        "sample_size=1000 # now we increase the sample size from 100 (which was used in the previous tutorial) to 1000\n",
        "\n",
        "# first the baseline\n",
        "outputs_baseline = ppi.run_ppi_parallel(I0, alphas, alphas_prime, betas, A=A, R=R, qm=qm, rl=rl,\n",
        "                                        Imax=Imax, Imin=Imin, Bs=Bs, B_dict=B_dict, T=T, G=goals,\n",
        "                                        parallel_processes=parallel_processes, sample_size=sample_size)\n",
        "\n",
        "# now the frontier\n",
        "# notice that Bs and B_dict will be overridden by frontier\n",
        "frontier = np.ones(N)\n",
        "outputs_frontier = ppi.run_ppi_parallel(I0, alphas, alphas_prime, betas, A=A, R=R, qm=qm, rl=rl,\n",
        "                                        Imax=Imax, Imin=Imin, Bs=Bs, B_dict=B_dict, T=T, G=goals, frontier=frontier,\n",
        "                                        parallel_processes=parallel_processes, sample_size=sample_size)"
      ]
    },
    {
      "cell_type": "markdown",
      "id": "573a4ab1",
      "metadata": {
        "id": "573a4ab1"
      },
      "source": [
        "Now we unpack the outputs and obtain the average time series of the baseline and the counterfactual."
      ]
    },
    {
      "cell_type": "code",
      "execution_count": 14,
      "id": "7a160aad",
      "metadata": {
        "id": "7a160aad"
      },
      "outputs": [],
      "source": [
        "tsI_sample, tsC_sample, tsF_sample, tsP_sample, tsS_sample, tsG_sample = outputs_baseline\n",
        "tsI_baseline = np.mean(tsI_sample, axis=0)\n",
        "\n",
        "tsI_sample, tsC_sample, tsF_sample, tsP_sample, tsS_sample, tsG_sample = outputs_frontier\n",
        "tsI_frontier = np.mean(tsI_sample, axis=0)"
      ]
    },
    {
      "cell_type": "markdown",
      "id": "1bbf13bc",
      "metadata": {
        "id": "1bbf13bc"
      },
      "source": [
        "Time to visualise the difference in development gaps."
      ]
    },
    {
      "cell_type": "code",
      "execution_count": 15,
      "id": "752a632d",
      "metadata": {
        "id": "752a632d",
        "outputId": "a7a5664a-6891-44e4-ccfb-2e566d212a0d",
        "colab": {
          "base_uri": "https://localhost:8080/",
          "height": 607
        }
      },
      "outputs": [
        {
          "output_type": "display_data",
          "data": {
            "text/plain": [
              "<Figure size 600x600 with 1 Axes>"
            ],
            "image/png": "[encoded data removed]"
          },
          "metadata": {}
        }
      ],
      "source": [
        "plt.figure(figsize=(6, 6))\n",
        "for index, row in df_indis.iterrows():\n",
        "    goal = goals[index]\n",
        "    if goal > tsI_baseline[index,T-1]: # consider only those indicators that would not reach their goals\n",
        "        plt.plot(goal-tsI_baseline[index,T-1], goal-tsI_frontier[index,T-1],\n",
        "                 '.', mec='w', mfc=row.color, markersize=20)\n",
        "plt.gca().spines['right'].set_visible(False)\n",
        "plt.gca().spines['top'].set_visible(False)\n",
        "plt.xlabel('baseline development gap')\n",
        "plt.ylabel('development gap on the budgetary frontier')\n",
        "plt.tight_layout()"
      ]
    },
    {
      "cell_type": "markdown",
      "id": "aad8ccc0",
      "metadata": {
        "id": "aad8ccc0"
      },
      "source": [
        "Now you can see that, on the frontier, many indicators would respond by closing their gaps, or even surpassing their goals (negative values in the vertical axis). Other indicators, in contrast, still show no sensitivity to the removal of financial constraints, flagging potential bottlenecks.\n",
        "\n",
        "The next step is to identify those policy issues that are insensitive and have shown poor performance in the historical data. The latter criterion, poor performance, can be arbitrary and context specific. For this example, I establish as the threshold of bad performance an average historical level of 0.5.\n",
        "\n",
        "Now, let me show a scatter plot that reveals the potential idiosyncratic bottlenecks. The plot shows the historical performance of each indicator against the fraction of the development gap that is closed when operating on the budgetary frontier. I colour the bottleneck area in gray."
      ]
    },
    {
      "cell_type": "code",
      "execution_count": 16,
      "id": "35c31e76",
      "metadata": {
        "id": "35c31e76",
        "outputId": "991dc021-b404-49f4-ee6f-3443d4ec550d",
        "colab": {
          "base_uri": "https://localhost:8080/",
          "height": 807
        }
      },
      "outputs": [
        {
          "output_type": "display_data",
          "data": {
            "text/plain": [
              "<Figure size 1200x800 with 1 Axes>"
            ],
            "image/png": "[encoded data removed]"
          },
          "metadata": {}
        }
      ],
      "source": [
        "years = [c for c in df_indis.columns if str(c).isnumeric()]\n",
        "plt.figure(figsize=(12, 8))\n",
        "plt.fill_between([-.5, .5], [-.5, -.5], [.5, .5], color='grey', alpha=.25)\n",
        "for index, row in df_indis.iterrows():\n",
        "    goal = goals[index]\n",
        "    hist_performance = np.mean(row[years])\n",
        "    if goal > tsI_baseline[index,T-1]:\n",
        "        gap_base = goal-tsI_baseline[index,T-1]\n",
        "        gap_frontier = np.max([0, goal-tsI_frontier[index,T-1]])\n",
        "        gap_reduction = (gap_base - gap_frontier)/gap_base\n",
        "        plt.plot(hist_performance, gap_reduction, '.', mec='w', mfc=row.color, markersize=40)\n",
        "for index, row in df_indis.iterrows():\n",
        "    goal = goals[index]\n",
        "    hist_performance = np.mean(row[years])\n",
        "    if goal > tsI_baseline[index,T-1]:\n",
        "        gap_base = goal-tsI_baseline[index,T-1]\n",
        "        gap_frontier = np.max([0, goal-tsI_frontier[index,T-1]])\n",
        "        gap_reduction = (gap_base - gap_frontier)/gap_base\n",
        "        txt = plt.text(hist_performance, gap_reduction, row.seriesCode, color='black',\n",
        "                       horizontalalignment='center')\n",
        "        txt.set_bbox(dict(facecolor='white', alpha=0.25, edgecolor='white'))\n",
        "plt.gca().spines['right'].set_visible(False)\n",
        "plt.gca().spines['top'].set_visible(False)\n",
        "plt.xlim(-.05, 1.05)\n",
        "plt.ylim(-.05, 1.05)\n",
        "plt.xlabel('historical performance')\n",
        "plt.ylabel('gap reduction')\n",
        "plt.tight_layout()"
      ]
    }
  ],
  "metadata": {
    "kernelspec": {
      "display_name": "Python 3 (ipykernel)",
      "language": "python",
      "name": "python3"
    },
    "language_info": {
      "codemirror_mode": {
        "name": "ipython",
        "version": 3
      },
      "file_extension": ".py",
      "mimetype": "text/x-python",
      "name": "python",
      "nbconvert_exporter": "python",
      "pygments_lexer": "ipython3",
      "version": "3.9.12"
    },
    "colab": {
      "provenance": [],
      "include_colab_link": true
    }
  },
  "nbformat": 4,
  "nbformat_minor": 5
}