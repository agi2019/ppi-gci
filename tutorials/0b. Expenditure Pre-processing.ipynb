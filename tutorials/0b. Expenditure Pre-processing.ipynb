{
 "cells": [
  {
   "cell_type": "code",
   "execution_count": null,
   "id": "870ed2c4-0ee1-461a-a9db-eeb844548198",
   "metadata": {},
   "outputs": [],
   "source": [
    "import pandas as pd\n",
    "import numpy as np"
   ]
  },
  {
   "cell_type": "code",
   "execution_count": null,
   "id": "974fec1a-f8f3-4656-ab62-d9f5e0b59049",
   "metadata": {},
   "outputs": [],
   "source": [
    "#scenario = '_scenario1'\n",
    "scenario = '_scenario2'\n",
    "#scenario = '_scenario3'"
   ]
  },
  {
   "cell_type": "code",
   "execution_count": null,
   "id": "54ac6279-d9d4-4437-893e-eb2bdf38dbb8",
   "metadata": {},
   "outputs": [],
   "source": [
    "data_exp = pd.read_csv('C:/Users/rha005/OneDrive - CSIRO/Documents/7. CSIRO/00. Work in Progress - ON Office/Week 5 - 6/ppi-gci-main-scenario/tutorials/raw_data'+scenario+'/pre_raw_expenditure.csv', index_col='sdg')"
   ]
  },
  {
   "cell_type": "code",
   "execution_count": null,
   "id": "dd1d82dd-133c-4217-977d-28706d464a96",
   "metadata": {},
   "outputs": [],
   "source": [
    "data_exp"
   ]
  },
  {
   "cell_type": "code",
   "execution_count": null,
   "id": "72ceabd5-7769-4d26-82b1-8be97fb4aa98",
   "metadata": {},
   "outputs": [],
   "source": [
    "# pick only the year columns\n",
    "years = [col for col in data_exp.columns if str(col).isnumeric()]\n",
    "\n",
    "# totals per year (column)\n",
    "column_sums = data_exp[years].sum(axis=0)\n",
    "\n",
    "# divide every cell by its column total\n",
    "df_normalised = data_exp[years]*100 / column_sums\n",
    "\n",
    "# keep the same index label ('sdg')\n",
    "df_normalised.index.name = 'sdg'\n",
    "\n",
    "df_normalised"
   ]
  },
  {
   "cell_type": "code",
   "execution_count": null,
   "id": "c4bd1147-2152-459e-b199-3bb69bb17440",
   "metadata": {},
   "outputs": [],
   "source": [
    "df_normalised.to_csv('C:/Users/rha005/OneDrive - CSIRO/Documents/7. CSIRO/00. Work in Progress - ON Office/Week 5 - 6/ppi-gci-main-scenario/tutorials/raw_data'+scenario+'/raw_expenditure.csv')"
   ]
  }
 ],
 "metadata": {
  "kernelspec": {
   "display_name": "Python 3 (ipykernel)",
   "language": "python",
   "name": "python3"
  },
  "language_info": {
   "codemirror_mode": {
    "name": "ipython",
    "version": 3
   },
   "file_extension": ".py",
   "mimetype": "text/x-python",
   "name": "python",
   "nbconvert_exporter": "python",
   "pygments_lexer": "ipython3",
   "version": "3.12.7"
  }
 },
 "nbformat": 4,
 "nbformat_minor": 5
}
