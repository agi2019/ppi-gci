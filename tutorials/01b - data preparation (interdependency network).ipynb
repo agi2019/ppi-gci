{
  "cells": [
    {
      "cell_type": "markdown",
      "metadata": {
        "id": "view-in-github",
        "colab_type": "text"
      },
      "source": [
        "<a href=\"https://colab.research.google.com/github/agi2019/ppi-gci/blob/main/tutorials/01b%20-%20data%20preparation%20(interdependency%20network).ipynb\" target=\"_parent\"><img src=\"https://colab.research.google.com/assets/colab-badge.svg\" alt=\"Open In Colab\"/></a>"
      ]
    },
    {
      "cell_type": "markdown",
      "id": "6b7dab01",
      "metadata": {
        "id": "6b7dab01"
      },
      "source": [
        "# <center>Data preparation – interdependency networks</center>\n",
        "\n",
        "Prepared by Omar A. Guerrero (oguerrero@turing.ac.uk, <a href=\"https://twitter.com/guerrero_oa\">@guerrero_oa</a>) Adapted for PPI-GCI project on cybersecurity policy prioritisation\n",
        "\n",
        "In this page, the aim is to demonstrate how to construct the input network for GCI indicators in the context of PPI simulations. For illustrative purposes—and aligned with the PPI tutorial—I will adopt a simple correlation-based approach to estimate pairwise relationships between cybersecurity indicators over time. Specifically, I will:\n",
        "\n",
        "1.   Load the pre-processed GCI indicator dataset, spanning multiple years (e.g., 2014, 2017, 2018, 2020, and 2024).\n",
        "2.   Compute pairwise correlations between the changes in indicators, incorporating lagged values to infer directionality and construct a directed, asymmetric network.\n",
        "3.  Apply a threshold criterion to filter weak relationships, retaining only those edges that surpass a chosen significance level.\n",
        "4.  Convert the resulting matrix into a structured format suitable for use in the PPI model.\n",
        "\n",
        "⚠️ Note: This method is applied as a temporary simplification to support the initial model setup. While it does not capture the full complexity of indicator interdependencies, it enables early-stage simulations and validation. In the next phase, this correlation-based network will be revisited and enhanced using a more appropriate network-estimation method tailored to the GCI indicators. The future goal is to incorporate a weighted structure that reflects the influence of each cybersecurity indicator on others, aligned with the systemic nature of cybersecurity policy domains and the GCI framework.\n",
        "\n",
        "Ultimately, the network structure will support more accurate policy prioritisation by embedding realistic interdependencies between cybersecurity indicators into the PPI model."
      ]
    },
    {
      "cell_type": "markdown",
      "id": "6c4a377d",
      "metadata": {
        "id": "6c4a377d"
      },
      "source": [
        "## Import the necessary Python libraries to manipulate data"
      ]
    },
    {
      "cell_type": "code",
      "execution_count": null,
      "id": "9f033da6",
      "metadata": {
        "id": "9f033da6"
      },
      "outputs": [],
      "source": [
        "import pandas as pd\n",
        "import numpy as np"
      ]
    },
    {
      "cell_type": "markdown",
      "id": "b6d138d7",
      "metadata": {
        "id": "b6d138d7"
      },
      "source": [
        "## Import the raw development indicators"
      ]
    },
    {
      "cell_type": "code",
      "execution_count": null,
      "id": "a3097fbd",
      "metadata": {
        "id": "a3097fbd"
      },
      "outputs": [],
      "source": [
        "data = pd.read_csv('https://raw.githubusercontent.com/agi2019/ppi-gci/main/tutorials/clean_data/data_indicators.csv')"
      ]
    },
    {
      "cell_type": "markdown",
      "id": "604a8e53",
      "metadata": {
        "id": "604a8e53"
      },
      "source": [
        "## Construct a matrix with pairwise Pearson correlations\n",
        "\n",
        "The directionality of the edges is from row to column."
      ]
    },
    {
      "cell_type": "code",
      "execution_count": null,
      "id": "bc363d5b",
      "metadata": {
        "id": "bc363d5b"
      },
      "outputs": [],
      "source": [
        "N = len(data)\n",
        "M = np.zeros((N, N))\n",
        "years = [column_name for column_name in data.columns if str(column_name).isnumeric()]\n",
        "\n",
        "for i, rowi in data.iterrows():\n",
        "    for j, rowj in data.iterrows():\n",
        "        if i!=j:\n",
        "            serie1 = rowi[years].values.astype(float)[1::]\n",
        "            serie2 = rowj[years].values.astype(float)[0:-1]\n",
        "            change_serie1 = serie1[1::] - serie1[0:-1]\n",
        "            change_serie2 = serie2[1::] - serie2[0:-1]\n",
        "            if not np.all(change_serie1 == change_serie1[0]) and not np.all(change_serie2 == change_serie2[0]):\n",
        "                M[i,j] = np.corrcoef(change_serie1, change_serie2)[0,1]"
      ]
    },
    {
      "cell_type": "markdown",
      "id": "8a58dbad",
      "metadata": {
        "id": "8a58dbad"
      },
      "source": [
        "## Filter edges that have a weight of magnitude lower than 0.5"
      ]
    },
    {
      "cell_type": "code",
      "execution_count": null,
      "id": "59c522a2",
      "metadata": {
        "id": "59c522a2"
      },
      "outputs": [],
      "source": [
        "M[np.abs(M) < 0.5] = 0"
      ]
    },
    {
      "cell_type": "markdown",
      "id": "16a461f0",
      "metadata": {
        "id": "16a461f0"
      },
      "source": [
        "## Save the network as a list of edges using the indicators' ids"
      ]
    },
    {
      "cell_type": "code",
      "execution_count": null,
      "id": "071a5ddd",
      "metadata": {
        "id": "071a5ddd"
      },
      "outputs": [],
      "source": [
        "ids = data.seriesCode.values\n",
        "edge_list = []\n",
        "for i, j in zip(np.where(M!=0)[0], np.where(M!=0)[1]):\n",
        "    edge_list.append( [ids[i], ids[j], M[i,j]] )\n",
        "df = pd.DataFrame(edge_list, columns=['origin', 'destination', 'weight'])\n",
        "df.to_csv('data_network.csv', index=False)"
      ]
    }
  ],
  "metadata": {
    "kernelspec": {
      "display_name": "Python 3 (ipykernel)",
      "language": "python",
      "name": "python3"
    },
    "language_info": {
      "codemirror_mode": {
        "name": "ipython",
        "version": 3
      },
      "file_extension": ".py",
      "mimetype": "text/x-python",
      "name": "python",
      "nbconvert_exporter": "python",
      "pygments_lexer": "ipython3",
      "version": "3.9.12"
    },
    "colab": {
      "provenance": [],
      "include_colab_link": true
    }
  },
  "nbformat": 4,
  "nbformat_minor": 5
}